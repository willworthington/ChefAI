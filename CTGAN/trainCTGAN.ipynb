{
  "nbformat": 4,
  "nbformat_minor": 0,
  "metadata": {
    "accelerator": "GPU",
    "colab": {
      "name": "trainCTGAN",
      "provenance": [],
      "collapsed_sections": []
    },
    "kernelspec": {
      "display_name": "Python 3",
      "name": "python3"
    },
    "language_info": {
      "name": "python"
    }
  },
  "cells": [
    {
      "cell_type": "code",
      "metadata": {
        "colab": {
          "base_uri": "https://localhost:8080/"
        },
        "id": "m_AY8gfu1rpe",
        "outputId": "6c3553d4-2789-40c0-e858-ddea73d26f73"
      },
      "source": [
        "!pip install ctgan"
      ],
      "execution_count": null,
      "outputs": [
        {
          "output_type": "stream",
          "text": [
            "Requirement already satisfied: ctgan in /usr/local/lib/python3.7/dist-packages (0.4.2)\n",
            "Requirement already satisfied: torch<2,>=1.4 in /usr/local/lib/python3.7/dist-packages (from ctgan) (1.8.1+cu101)\n",
            "Requirement already satisfied: packaging in /usr/local/lib/python3.7/dist-packages (from ctgan) (20.9)\n",
            "Requirement already satisfied: numpy<2,>=1.18.0 in /usr/local/lib/python3.7/dist-packages (from ctgan) (1.19.5)\n",
            "Requirement already satisfied: rdt<0.5,>=0.4.1 in /usr/local/lib/python3.7/dist-packages (from ctgan) (0.4.1)\n",
            "Requirement already satisfied: torchvision<1,>=0.5.0 in /usr/local/lib/python3.7/dist-packages (from ctgan) (0.9.1+cu101)\n",
            "Requirement already satisfied: scikit-learn<1,>=0.23 in /usr/local/lib/python3.7/dist-packages (from ctgan) (0.24.2)\n",
            "Requirement already satisfied: pandas<1.1.5,>=1.1 in /usr/local/lib/python3.7/dist-packages (from ctgan) (1.1.4)\n",
            "Requirement already satisfied: typing-extensions in /usr/local/lib/python3.7/dist-packages (from torch<2,>=1.4->ctgan) (3.7.4.3)\n",
            "Requirement already satisfied: pyparsing>=2.0.2 in /usr/local/lib/python3.7/dist-packages (from packaging->ctgan) (2.4.7)\n",
            "Requirement already satisfied: scipy<2,>=1.4.1 in /usr/local/lib/python3.7/dist-packages (from rdt<0.5,>=0.4.1->ctgan) (1.4.1)\n",
            "Requirement already satisfied: pillow>=4.1.1 in /usr/local/lib/python3.7/dist-packages (from torchvision<1,>=0.5.0->ctgan) (7.1.2)\n",
            "Requirement already satisfied: threadpoolctl>=2.0.0 in /usr/local/lib/python3.7/dist-packages (from scikit-learn<1,>=0.23->ctgan) (2.1.0)\n",
            "Requirement already satisfied: joblib>=0.11 in /usr/local/lib/python3.7/dist-packages (from scikit-learn<1,>=0.23->ctgan) (1.0.1)\n",
            "Requirement already satisfied: pytz>=2017.2 in /usr/local/lib/python3.7/dist-packages (from pandas<1.1.5,>=1.1->ctgan) (2018.9)\n",
            "Requirement already satisfied: python-dateutil>=2.7.3 in /usr/local/lib/python3.7/dist-packages (from pandas<1.1.5,>=1.1->ctgan) (2.8.1)\n",
            "Requirement already satisfied: six>=1.5 in /usr/local/lib/python3.7/dist-packages (from python-dateutil>=2.7.3->pandas<1.1.5,>=1.1->ctgan) (1.15.0)\n"
          ],
          "name": "stdout"
        }
      ]
    },
    {
      "cell_type": "code",
      "metadata": {
        "colab": {
          "background_save": true,
          "base_uri": "https://localhost:8080/"
        },
        "id": "5U7PSRFY1uMy",
        "outputId": "d1eff700-0159-4ff3-e2b9-ea1bba93b125"
      },
      "source": [
        "from ctgan import CTGANSynthesizer\n",
        "import pandas as pd\n",
        "from time import time\n",
        "\n",
        "data = pd.read_feather(\"lessSparse300f.fth\")\n",
        "\n",
        "print(data.shape)\n",
        "discrete_columns = data.columns\n",
        "\n",
        "start = time()\n",
        "ctgan = CTGANSynthesizer(epochs=500)\n",
        "ctgan.fit(data, discrete_columns)\n",
        "print(\"Time: \" + str(time()  - start))\n",
        "#ctgan.save(\"model.pkl\")\n",
        "# Synthetic copy\n",
        "samples = ctgan.sample(1000)\n",
        "print(samples)"
      ],
      "execution_count": null,
      "outputs": [
        {
          "output_type": "stream",
          "text": [
            "(48172, 579)\n",
            "Time: 7504.63169836998\n",
            "     ig_389  ig_7655  ig_6270  ig_1527  ...  ig_547  ig_7863  ig_4816  ig_1933\n",
            "0     False    False     True    False  ...   False    False    False    False\n",
            "1     False     True     True    False  ...   False    False    False    False\n",
            "2     False     True     True    False  ...   False    False    False    False\n",
            "3     False     True     True    False  ...   False    False    False    False\n",
            "4     False     True     True    False  ...   False    False    False    False\n",
            "..      ...      ...      ...      ...  ...     ...      ...      ...      ...\n",
            "995   False     True    False    False  ...   False    False    False    False\n",
            "996   False     True     True    False  ...   False    False    False    False\n",
            "997   False     True     True    False  ...   False    False    False    False\n",
            "998   False     True     True    False  ...   False    False    False    False\n",
            "999   False    False     True    False  ...   False    False    False    False\n",
            "\n",
            "[1000 rows x 579 columns]\n"
          ],
          "name": "stdout"
        }
      ]
    },
    {
      "cell_type": "code",
      "metadata": {
        "colab": {
          "background_save": true
        },
        "id": "fP11U5oKJ8P9",
        "outputId": "274d8369-99cd-4082-ad1f-eecef22a1df4"
      },
      "source": [
        "!pip install pyarrow\n",
        "samples.to_feather(\"drive/MyDrive/syntheticRecipes500.fth\")"
      ],
      "execution_count": null,
      "outputs": [
        {
          "output_type": "stream",
          "text": [
            "Requirement already satisfied: pyarrow in /usr/local/lib/python3.7/dist-packages (3.0.0)\n",
            "Requirement already satisfied: numpy>=1.16.6 in /usr/local/lib/python3.7/dist-packages (from pyarrow) (1.19.5)\n"
          ],
          "name": "stdout"
        }
      ]
    },
    {
      "cell_type": "markdown",
      "metadata": {
        "id": "d5dSeEWL3mTf"
      },
      "source": [
        "100 seconds for shape (1000, 7722)\n",
        "847 seconds for shape (10000, 772)\n"
      ]
    }
  ]
}